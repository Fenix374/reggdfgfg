{
 "cells": [
  {
   "cell_type": "raw",
   "source": [
    "Цель работы: реализовать базовый анализ датасета персонажей Звездных Войн, вывести такие параметры датасета как размерность, наименование колонок, уникальные значения, реализовать сортировку, удаление, замену, удаление дубликатов, провести анализ с помощью info, describe, провести выборку данных с помощью loc."
   ],
   "metadata": {
    "collapsed": false
   },
   "id": "ad1bb9c3a77a6ed9"
  },
  {
   "cell_type": "code",
   "execution_count": 7,
   "outputs": [
    {
     "data": {
      "text/plain": "              name  height   mass hair_color   skin_color eye_color  \\\n0   Luke Skywalker   172.0   77.0      blond         fair      blue   \n1            C-3PO   167.0   75.0        NaN         gold    yellow   \n2            R2-D2    96.0   32.0        NaN  white, blue       red   \n3      Darth Vader   202.0  136.0       none        white    yellow   \n4      Leia Organa   150.0   49.0      brown        light     brown   \n..             ...     ...    ...        ...          ...       ...   \n82             Rey     NaN    NaN      brown        light     hazel   \n83     Poe Dameron     NaN    NaN      brown        light     brown   \n84             BB8     NaN    NaN       none         none     black   \n85  Captain Phasma     NaN    NaN    unknown      unknown   unknown   \n86   Padmé Amidala   165.0   45.0      brown        light     brown   \n\n    birth_year     sex     gender homeworld species  \\\n0         19.0    male  masculine  Tatooine   Human   \n1        112.0    none  masculine  Tatooine   Droid   \n2         33.0    none  masculine     Naboo   Droid   \n3         41.9    male  masculine  Tatooine   Human   \n4         19.0  female   feminine  Alderaan   Human   \n..         ...     ...        ...       ...     ...   \n82         NaN  female   feminine       NaN   Human   \n83         NaN    male  masculine       NaN   Human   \n84         NaN    none  masculine       NaN   Droid   \n85         NaN     NaN        NaN       NaN     NaN   \n86        46.0  female   feminine     Naboo   Human   \n\n                                                films  \\\n0   The Empire Strikes Back, Revenge of the Sith, ...   \n1   The Empire Strikes Back, Attack of the Clones,...   \n2   The Empire Strikes Back, Attack of the Clones,...   \n3   The Empire Strikes Back, Revenge of the Sith, ...   \n4   The Empire Strikes Back, Revenge of the Sith, ...   \n..                                                ...   \n82                                  The Force Awakens   \n83                                  The Force Awakens   \n84                                  The Force Awakens   \n85                                  The Force Awakens   \n86  Attack of the Clones, The Phantom Menace, Reve...   \n\n                              vehicles  \\\n0   Snowspeeder, Imperial Speeder Bike   \n1                                  NaN   \n2                                  NaN   \n3                                  NaN   \n4                Imperial Speeder Bike   \n..                                 ...   \n82                                 NaN   \n83                                 NaN   \n84                                 NaN   \n85                                 NaN   \n86                                 NaN   \n\n                                            starships  \n0                            X-wing, Imperial shuttle  \n1                                                 NaN  \n2                                                 NaN  \n3                                     TIE Advanced x1  \n4                                                 NaN  \n..                                                ...  \n82                                                NaN  \n83                                T-70 X-wing fighter  \n84                                                NaN  \n85                                                NaN  \n86  H-type Nubian yacht, Naboo star skiff, Naboo f...  \n\n[87 rows x 14 columns]",
      "text/html": "<div>\n<style scoped>\n    .dataframe tbody tr th:only-of-type {\n        vertical-align: middle;\n    }\n\n    .dataframe tbody tr th {\n        vertical-align: top;\n    }\n\n    .dataframe thead th {\n        text-align: right;\n    }\n</style>\n<table border=\"1\" class=\"dataframe\">\n  <thead>\n    <tr style=\"text-align: right;\">\n      <th></th>\n      <th>name</th>\n      <th>height</th>\n      <th>mass</th>\n      <th>hair_color</th>\n      <th>skin_color</th>\n      <th>eye_color</th>\n      <th>birth_year</th>\n      <th>sex</th>\n      <th>gender</th>\n      <th>homeworld</th>\n      <th>species</th>\n      <th>films</th>\n      <th>vehicles</th>\n      <th>starships</th>\n    </tr>\n  </thead>\n  <tbody>\n    <tr>\n      <th>0</th>\n      <td>Luke Skywalker</td>\n      <td>172.0</td>\n      <td>77.0</td>\n      <td>blond</td>\n      <td>fair</td>\n      <td>blue</td>\n      <td>19.0</td>\n      <td>male</td>\n      <td>masculine</td>\n      <td>Tatooine</td>\n      <td>Human</td>\n      <td>The Empire Strikes Back, Revenge of the Sith, ...</td>\n      <td>Snowspeeder, Imperial Speeder Bike</td>\n      <td>X-wing, Imperial shuttle</td>\n    </tr>\n    <tr>\n      <th>1</th>\n      <td>C-3PO</td>\n      <td>167.0</td>\n      <td>75.0</td>\n      <td>NaN</td>\n      <td>gold</td>\n      <td>yellow</td>\n      <td>112.0</td>\n      <td>none</td>\n      <td>masculine</td>\n      <td>Tatooine</td>\n      <td>Droid</td>\n      <td>The Empire Strikes Back, Attack of the Clones,...</td>\n      <td>NaN</td>\n      <td>NaN</td>\n    </tr>\n    <tr>\n      <th>2</th>\n      <td>R2-D2</td>\n      <td>96.0</td>\n      <td>32.0</td>\n      <td>NaN</td>\n      <td>white, blue</td>\n      <td>red</td>\n      <td>33.0</td>\n      <td>none</td>\n      <td>masculine</td>\n      <td>Naboo</td>\n      <td>Droid</td>\n      <td>The Empire Strikes Back, Attack of the Clones,...</td>\n      <td>NaN</td>\n      <td>NaN</td>\n    </tr>\n    <tr>\n      <th>3</th>\n      <td>Darth Vader</td>\n      <td>202.0</td>\n      <td>136.0</td>\n      <td>none</td>\n      <td>white</td>\n      <td>yellow</td>\n      <td>41.9</td>\n      <td>male</td>\n      <td>masculine</td>\n      <td>Tatooine</td>\n      <td>Human</td>\n      <td>The Empire Strikes Back, Revenge of the Sith, ...</td>\n      <td>NaN</td>\n      <td>TIE Advanced x1</td>\n    </tr>\n    <tr>\n      <th>4</th>\n      <td>Leia Organa</td>\n      <td>150.0</td>\n      <td>49.0</td>\n      <td>brown</td>\n      <td>light</td>\n      <td>brown</td>\n      <td>19.0</td>\n      <td>female</td>\n      <td>feminine</td>\n      <td>Alderaan</td>\n      <td>Human</td>\n      <td>The Empire Strikes Back, Revenge of the Sith, ...</td>\n      <td>Imperial Speeder Bike</td>\n      <td>NaN</td>\n    </tr>\n    <tr>\n      <th>...</th>\n      <td>...</td>\n      <td>...</td>\n      <td>...</td>\n      <td>...</td>\n      <td>...</td>\n      <td>...</td>\n      <td>...</td>\n      <td>...</td>\n      <td>...</td>\n      <td>...</td>\n      <td>...</td>\n      <td>...</td>\n      <td>...</td>\n      <td>...</td>\n    </tr>\n    <tr>\n      <th>82</th>\n      <td>Rey</td>\n      <td>NaN</td>\n      <td>NaN</td>\n      <td>brown</td>\n      <td>light</td>\n      <td>hazel</td>\n      <td>NaN</td>\n      <td>female</td>\n      <td>feminine</td>\n      <td>NaN</td>\n      <td>Human</td>\n      <td>The Force Awakens</td>\n      <td>NaN</td>\n      <td>NaN</td>\n    </tr>\n    <tr>\n      <th>83</th>\n      <td>Poe Dameron</td>\n      <td>NaN</td>\n      <td>NaN</td>\n      <td>brown</td>\n      <td>light</td>\n      <td>brown</td>\n      <td>NaN</td>\n      <td>male</td>\n      <td>masculine</td>\n      <td>NaN</td>\n      <td>Human</td>\n      <td>The Force Awakens</td>\n      <td>NaN</td>\n      <td>T-70 X-wing fighter</td>\n    </tr>\n    <tr>\n      <th>84</th>\n      <td>BB8</td>\n      <td>NaN</td>\n      <td>NaN</td>\n      <td>none</td>\n      <td>none</td>\n      <td>black</td>\n      <td>NaN</td>\n      <td>none</td>\n      <td>masculine</td>\n      <td>NaN</td>\n      <td>Droid</td>\n      <td>The Force Awakens</td>\n      <td>NaN</td>\n      <td>NaN</td>\n    </tr>\n    <tr>\n      <th>85</th>\n      <td>Captain Phasma</td>\n      <td>NaN</td>\n      <td>NaN</td>\n      <td>unknown</td>\n      <td>unknown</td>\n      <td>unknown</td>\n      <td>NaN</td>\n      <td>NaN</td>\n      <td>NaN</td>\n      <td>NaN</td>\n      <td>NaN</td>\n      <td>The Force Awakens</td>\n      <td>NaN</td>\n      <td>NaN</td>\n    </tr>\n    <tr>\n      <th>86</th>\n      <td>Padmé Amidala</td>\n      <td>165.0</td>\n      <td>45.0</td>\n      <td>brown</td>\n      <td>light</td>\n      <td>brown</td>\n      <td>46.0</td>\n      <td>female</td>\n      <td>feminine</td>\n      <td>Naboo</td>\n      <td>Human</td>\n      <td>Attack of the Clones, The Phantom Menace, Reve...</td>\n      <td>NaN</td>\n      <td>H-type Nubian yacht, Naboo star skiff, Naboo f...</td>\n    </tr>\n  </tbody>\n</table>\n<p>87 rows × 14 columns</p>\n</div>"
     },
     "execution_count": 7,
     "metadata": {},
     "output_type": "execute_result"
    }
   ],
   "source": [
    "import pandas as pd\n",
    "star_wars = pd.read_csv(\"star_wars_character_dataset.csv\")\n",
    "star_wars"
   ],
   "metadata": {
    "collapsed": false,
    "ExecuteTime": {
     "end_time": "2023-12-20T18:37:05.572548700Z",
     "start_time": "2023-12-20T18:37:05.550579800Z"
    }
   },
   "id": "6f8ca6aff8d2ce06"
  },
  {
   "cell_type": "markdown",
   "source": [
    "1. Вывод данных.\n",
    "Выведем полный датасет со всеми данными. Всего 87 персонажей. Более подробный разбор\n",
    "датасета будет в пункте про наименование колонок."
   ],
   "metadata": {
    "collapsed": false
   },
   "id": "d00b0aab7db7bc37"
  },
  {
   "cell_type": "code",
   "execution_count": 8,
   "outputs": [
    {
     "data": {
      "text/plain": "(87, 14)"
     },
     "execution_count": 8,
     "metadata": {},
     "output_type": "execute_result"
    }
   ],
   "source": [
    "star_wars.shape"
   ],
   "metadata": {
    "collapsed": false,
    "ExecuteTime": {
     "end_time": "2023-12-20T18:41:07.184789800Z",
     "start_time": "2023-12-20T18:41:07.158423100Z"
    }
   },
   "id": "5fd9ebb9f3b51ec5"
  },
  {
   "cell_type": "markdown",
   "source": [
    "2. Размерность массива\n",
    "Размерность показывает количество строк и столбцов таблицы. В нашем случае общее количество ячеек будет 1218, столько понадобится индексов, чтобы определить каждый элемент массива."
   ],
   "metadata": {
    "collapsed": false
   },
   "id": "7a54c36650295ff5"
  },
  {
   "cell_type": "code",
   "execution_count": 9,
   "outputs": [
    {
     "data": {
      "text/plain": "Index(['name', 'height', 'mass', 'hair_color', 'skin_color', 'eye_color',\n       'birth_year', 'sex', 'gender', 'homeworld', 'species', 'films',\n       'vehicles', 'starships'],\n      dtype='object')"
     },
     "execution_count": 9,
     "metadata": {},
     "output_type": "execute_result"
    }
   ],
   "source": [
    "  star_wars.columns"
   ],
   "metadata": {
    "collapsed": false,
    "ExecuteTime": {
     "end_time": "2023-12-20T18:43:44.483449600Z",
     "start_time": "2023-12-20T18:43:44.465881100Z"
    }
   },
   "id": "4ad7c0bc71d84d14"
  },
  {
   "cell_type": "markdown",
   "source": [
    "3. Наименования колонок\n",
    "В нашем датасете указаны такие данные персонажей, как имя, рост, вес, цвет волос, цыет\n",
    "кожи, цвет глаз, день рождеия, пол, гендер, родная планета, разновидность, фильмы\n",
    "и транспорт с космическими кораблями по которым мы будем сравнивать персонажей."
   ],
   "metadata": {
    "collapsed": false
   },
   "id": "f29f8f0517efe685"
  },
  {
   "cell_type": "code",
   "execution_count": 10,
   "outputs": [
    {
     "data": {
      "text/plain": "array(['Luke Skywalker', 'C-3PO', 'R2-D2', 'Darth Vader', 'Leia Organa',\n       'Owen Lars', 'Beru Whitesun lars', 'R5-D4', 'Biggs Darklighter',\n       'Obi-Wan Kenobi', 'Anakin Skywalker', 'Wilhuff Tarkin',\n       'Chewbacca', 'Han Solo', 'Greedo', 'Jabba Desilijic Tiure',\n       'Wedge Antilles', 'Jek Tono Porkins', 'Yoda', 'Palpatine',\n       'Boba Fett', 'IG-88', 'Bossk', 'Lando Calrissian', 'Lobot',\n       'Ackbar', 'Mon Mothma', 'Arvel Crynyd', 'Wicket Systri Warrick',\n       'Nien Nunb', 'Qui-Gon Jinn', 'Nute Gunray', 'Finis Valorum',\n       'Jar Jar Binks', 'Roos Tarpals', 'Rugor Nass', 'Ric Olié', 'Watto',\n       'Sebulba', 'Quarsh Panaka', 'Shmi Skywalker', 'Darth Maul',\n       'Bib Fortuna', 'Ayla Secura', 'Dud Bolt', 'Gasgano',\n       'Ben Quadinaros', 'Mace Windu', 'Ki-Adi-Mundi', 'Kit Fisto',\n       'Eeth Koth', 'Adi Gallia', 'Saesee Tiin', 'Yarael Poof',\n       'Plo Koon', 'Mas Amedda', 'Gregar Typho', 'Cordé', 'Cliegg Lars',\n       'Poggle the Lesser', 'Luminara Unduli', 'Barriss Offee', 'Dormé',\n       'Dooku', 'Bail Prestor Organa', 'Jango Fett', 'Zam Wesell',\n       'Dexter Jettster', 'Lama Su', 'Taun We', 'Jocasta Nu',\n       'Ratts Tyerell', 'R4-P17', 'Wat Tambor', 'San Hill', 'Shaak Ti',\n       'Grievous', 'Tarfful', 'Raymus Antilles', 'Sly Moore',\n       'Tion Medon', 'Finn', 'Rey', 'Poe Dameron', 'BB8',\n       'Captain Phasma', 'Padmé Amidala'], dtype=object)"
     },
     "execution_count": 10,
     "metadata": {},
     "output_type": "execute_result"
    }
   ],
   "source": [
    "star_wars['name'].unique()"
   ],
   "metadata": {
    "collapsed": false,
    "ExecuteTime": {
     "end_time": "2023-12-20T18:50:24.382274800Z",
     "start_time": "2023-12-20T18:50:24.377564100Z"
    }
   },
   "id": "469de52d9a71716b"
  },
  {
   "cell_type": "code",
   "execution_count": 11,
   "outputs": [
    {
     "data": {
      "text/plain": "array(['The Empire Strikes Back, Revenge of the Sith, Return of the Jedi, A New Hope, The Force Awakens',\n       'The Empire Strikes Back, Attack of the Clones, The Phantom Menace, Revenge of the Sith, Return of the Jedi, A New Hope',\n       'The Empire Strikes Back, Attack of the Clones, The Phantom Menace, Revenge of the Sith, Return of the Jedi, A New Hope, The Force Awakens',\n       'The Empire Strikes Back, Revenge of the Sith, Return of the Jedi, A New Hope',\n       'Attack of the Clones, Revenge of the Sith, A New Hope',\n       'A New Hope',\n       'Attack of the Clones, The Phantom Menace, Revenge of the Sith',\n       'Revenge of the Sith, A New Hope',\n       'The Empire Strikes Back, Return of the Jedi, A New Hope, The Force Awakens',\n       'The Phantom Menace, Return of the Jedi, A New Hope',\n       'The Empire Strikes Back, Return of the Jedi, A New Hope',\n       'The Empire Strikes Back, Attack of the Clones, The Phantom Menace, Revenge of the Sith, Return of the Jedi',\n       'The Empire Strikes Back, Attack of the Clones, Return of the Jedi',\n       'The Empire Strikes Back',\n       'The Empire Strikes Back, Return of the Jedi',\n       'Return of the Jedi, The Force Awakens', 'Return of the Jedi',\n       'The Phantom Menace', 'Attack of the Clones, The Phantom Menace',\n       'The Phantom Menace, Revenge of the Sith', 'Attack of the Clones',\n       'Attack of the Clones, Revenge of the Sith', 'Revenge of the Sith',\n       'The Force Awakens'], dtype=object)"
     },
     "execution_count": 11,
     "metadata": {},
     "output_type": "execute_result"
    }
   ],
   "source": [
    "star_wars['films'].unique()"
   ],
   "metadata": {
    "collapsed": false,
    "ExecuteTime": {
     "end_time": "2023-12-20T18:51:01.820760Z",
     "start_time": "2023-12-20T18:51:01.793286500Z"
    }
   },
   "id": "1ca32f0909e3518b"
  },
  {
   "cell_type": "code",
   "execution_count": 12,
   "outputs": [
    {
     "data": {
      "text/plain": "array(['X-wing, Imperial shuttle', nan, 'TIE Advanced x1', 'X-wing',\n       'Jedi starfighter, Trade Federation cruiser, Naboo star skiff, Jedi Interceptor, Belbullab-22 starfighter',\n       'Trade Federation cruiser, Jedi Interceptor, Naboo fighter',\n       'Millennium Falcon, Imperial shuttle', 'Slave 1',\n       'Millennium Falcon', 'A-wing', 'Naboo Royal Starship', 'Scimitar',\n       'Jedi starfighter', 'Naboo fighter', 'Belbullab-22 starfighter',\n       'T-70 X-wing fighter',\n       'H-type Nubian yacht, Naboo star skiff, Naboo fighter'],\n      dtype=object)"
     },
     "execution_count": 12,
     "metadata": {},
     "output_type": "execute_result"
    }
   ],
   "source": [
    "star_wars['starships'].unique()"
   ],
   "metadata": {
    "collapsed": false,
    "ExecuteTime": {
     "end_time": "2023-12-20T18:51:24.506383200Z",
     "start_time": "2023-12-20T18:51:24.496096800Z"
    }
   },
   "id": "538b2c8a634805fc"
  },
  {
   "cell_type": "code",
   "execution_count": 13,
   "outputs": [
    {
     "data": {
      "text/plain": "array([ 19. , 112. ,  33. ,  41.9,  52. ,  47. ,   nan,  24. ,  57. ,\n        64. , 200. ,  29. ,  44. , 600. ,  21. , 896. ,  82. ,  31.5,\n        15. ,  53. ,  31. ,  37. ,  41. ,  48. ,   8. ,  92. ,  91. ,\n        62. ,  72. ,  54. ,  22. ,  58. ,  40. , 102. ,  67. ,  66. ,\n        46. ])"
     },
     "execution_count": 13,
     "metadata": {},
     "output_type": "execute_result"
    }
   ],
   "source": [
    "star_wars['birth_year'].unique()"
   ],
   "metadata": {
    "collapsed": false,
    "ExecuteTime": {
     "end_time": "2023-12-20T18:52:13.043890800Z",
     "start_time": "2023-12-20T18:52:13.037549200Z"
    }
   },
   "id": "1dc4fb0ef565e98d"
  },
  {
   "cell_type": "code",
   "execution_count": 14,
   "outputs": [
    {
     "data": {
      "text/plain": "array(['blond', nan, 'none', 'brown', 'brown, grey', 'black',\n       'auburn, white', 'auburn, grey', 'white', 'grey', 'auburn',\n       'blonde', 'unknown'], dtype=object)"
     },
     "execution_count": 14,
     "metadata": {},
     "output_type": "execute_result"
    }
   ],
   "source": [
    "star_wars['hair_color'].unique()"
   ],
   "metadata": {
    "collapsed": false,
    "ExecuteTime": {
     "end_time": "2023-12-20T18:52:45.020185400Z",
     "start_time": "2023-12-20T18:52:45.010476300Z"
    }
   },
   "id": "6af3b089d9283f0c"
  },
  {
   "cell_type": "code",
   "execution_count": 15,
   "outputs": [
    {
     "data": {
      "text/plain": "array(['fair', 'gold', 'white, blue', 'white', 'light', 'white, red',\n       'unknown', 'green', 'green-tan, brown', 'pale', 'metal', 'dark',\n       'brown mottle', 'brown', 'grey', 'mottled green', 'orange',\n       'blue, grey', 'grey, red', 'red', 'blue', 'grey, green, yellow',\n       'yellow', 'tan', 'fair, green, yellow', 'grey, blue',\n       'silver, red', 'green, grey', 'red, blue, white', 'brown, white',\n       'none'], dtype=object)"
     },
     "execution_count": 15,
     "metadata": {},
     "output_type": "execute_result"
    }
   ],
   "source": [
    "star_wars['skin_color'].unique()"
   ],
   "metadata": {
    "collapsed": false,
    "ExecuteTime": {
     "end_time": "2023-12-20T18:52:56.575575500Z",
     "start_time": "2023-12-20T18:52:56.565938Z"
    }
   },
   "id": "c82626cbf4bffe79"
  },
  {
   "cell_type": "code",
   "execution_count": 18,
   "outputs": [
    {
     "data": {
      "text/plain": "array([  77. ,   75. ,   32. ,  136. ,   49. ,  120. ,   84. ,    nan,\n        112. ,   80. ,   74. , 1358. ,  110. ,   17. ,   78.2,  140. ,\n        113. ,   79. ,   83. ,   20. ,   68. ,   89. ,   90. ,   66. ,\n         82. ,   40. ,   55. ,   45. ,   65. ,   87. ,   50. ,   85. ,\n         56.2,  102. ,   88. ,   15. ,   48. ,   57. ,  159. ])"
     },
     "execution_count": 18,
     "metadata": {},
     "output_type": "execute_result"
    }
   ],
   "source": [
    "star_wars['mass'].unique()"
   ],
   "metadata": {
    "collapsed": false,
    "ExecuteTime": {
     "end_time": "2023-12-20T18:56:18.345425200Z",
     "start_time": "2023-12-20T18:56:18.323694Z"
    }
   },
   "id": "9a6dbe322503a5f6"
  },
  {
   "cell_type": "code",
   "execution_count": 17,
   "outputs": [
    {
     "data": {
      "text/plain": "array(['Human', 'Droid', 'Wookiee', 'Rodian', 'Hutt', \"Yoda's species\",\n       'Trandoshan', 'Mon Calamari', 'Ewok', 'Sullustan', 'Neimodian',\n       'Gungan', nan, 'Toydarian', 'Dug', 'Zabrak', \"Twi'lek\",\n       'Vulptereen', 'Xexto', 'Toong', 'Cerean', 'Nautolan', 'Tholothian',\n       'Iktotchi', 'Quermian', 'Kel Dor', 'Chagrian', 'Geonosian',\n       'Mirialan', 'Clawdite', 'Besalisk', 'Kaminoan', 'Aleena',\n       'Skakoan', 'Muun', 'Togruta', 'Kaleesh', \"Pau'an\"], dtype=object)"
     },
     "execution_count": 17,
     "metadata": {},
     "output_type": "execute_result"
    }
   ],
   "source": [
    "star_wars['species'].unique()"
   ],
   "metadata": {
    "collapsed": false,
    "ExecuteTime": {
     "end_time": "2023-12-20T18:55:13.790956900Z",
     "start_time": "2023-12-20T18:55:13.782477800Z"
    }
   },
   "id": "61b90a50ce2f80a2"
  },
  {
   "cell_type": "code",
   "execution_count": 19,
   "outputs": [
    {
     "data": {
      "text/plain": "array(['Tatooine', 'Naboo', 'Alderaan', 'Stewjon', 'Eriadu', 'Kashyyyk',\n       'Corellia', 'Rodia', 'Nal Hutta', 'Bestine IV', nan, 'Kamino',\n       'Trandosha', 'Socorro', 'Bespin', 'Mon Cala', 'Chandrila', 'Endor',\n       'Sullust', 'Cato Neimoidia', 'Coruscant', 'Toydaria', 'Malastare',\n       'Dathomir', 'Ryloth', 'Vulpter', 'Troiken', 'Tund', 'Haruun Kal',\n       'Cerea', 'Glee Anselm', 'Iridonia', 'Iktotch', 'Quermia', 'Dorin',\n       'Champala', 'Geonosis', 'Mirial', 'Serenno', 'Concord Dawn',\n       'Zolan', 'Ojom', 'Aleen Minor', 'Skako', 'Muunilinst', 'Shili',\n       'Kalee', 'Umbara', 'Utapau'], dtype=object)"
     },
     "execution_count": 19,
     "metadata": {},
     "output_type": "execute_result"
    }
   ],
   "source": [
    "star_wars['homeworld'].unique()"
   ],
   "metadata": {
    "collapsed": false,
    "ExecuteTime": {
     "end_time": "2023-12-20T18:56:49.309580900Z",
     "start_time": "2023-12-20T18:56:49.296993800Z"
    }
   },
   "id": "cd38df12f2d408ae"
  },
  {
   "cell_type": "code",
   "execution_count": 20,
   "outputs": [
    {
     "data": {
      "text/plain": "array(['Snowspeeder, Imperial Speeder Bike', nan, 'Imperial Speeder Bike',\n       'Tribubble bongo', 'Zephyr-G swoop bike, XJ-6 airspeeder', 'AT-ST',\n       'Snowspeeder', 'Sith speeder', 'Flitknot speeder',\n       'Koro-2 Exodrive airspeeder', 'Tsmeu-6 personal wheel bike'],\n      dtype=object)"
     },
     "execution_count": 20,
     "metadata": {},
     "output_type": "execute_result"
    }
   ],
   "source": [
    "star_wars['vehicles'].unique()"
   ],
   "metadata": {
    "collapsed": false,
    "ExecuteTime": {
     "end_time": "2023-12-20T18:57:15.822883Z",
     "start_time": "2023-12-20T18:57:15.810557Z"
    }
   },
   "id": "f085e192c877b407"
  },
  {
   "cell_type": "code",
   "execution_count": 23,
   "outputs": [
    {
     "data": {
      "text/plain": "array(['male', 'none', 'female', 'hermaphroditic', nan], dtype=object)"
     },
     "execution_count": 23,
     "metadata": {},
     "output_type": "execute_result"
    }
   ],
   "source": [
    "star_wars['sex'].unique()"
   ],
   "metadata": {
    "collapsed": false,
    "ExecuteTime": {
     "end_time": "2023-12-20T18:58:40.499623500Z",
     "start_time": "2023-12-20T18:58:40.487045200Z"
    }
   },
   "id": "f8ed7ef7fabe5d90"
  },
  {
   "cell_type": "code",
   "execution_count": 24,
   "outputs": [
    {
     "data": {
      "text/plain": "name          87\nheight        45\nmass          38\nhair_color    12\nskin_color    31\neye_color     15\nbirth_year    36\nsex            4\ngender         2\nhomeworld     48\nspecies       37\nfilms         24\nvehicles      10\nstarships     16\ndtype: int64"
     },
     "execution_count": 24,
     "metadata": {},
     "output_type": "execute_result"
    }
   ],
   "source": [
    "star_wars.nunique()"
   ],
   "metadata": {
    "collapsed": false,
    "ExecuteTime": {
     "end_time": "2023-12-20T18:59:31.249424800Z",
     "start_time": "2023-12-20T18:59:31.192533400Z"
    }
   },
   "id": "341777b7e027fb27"
  },
  {
   "cell_type": "markdown",
   "source": [
    "4. Уникальные значения\n",
    "Выводим уникальные значения для каждой колонки, а также общее количество уникальных\n",
    "значений в датасете."
   ],
   "metadata": {
    "collapsed": false
   },
   "id": "8ff3836988c8f4dd"
  },
  {
   "cell_type": "code",
   "execution_count": 25,
   "outputs": [
    {
     "data": {
      "text/plain": "                     name  height    mass hair_color        skin_color  \\\n17       Jek Tono Porkins   180.0   110.0      brown              fair   \n14                 Greedo   173.0    74.0        NaN             green   \n7                   R5-D4    97.0    32.0        NaN        white, red   \n8       Biggs Darklighter   183.0    84.0      black             light   \n58            Cliegg Lars   183.0     NaN      brown              fair   \n..                    ...     ...     ...        ...               ...   \n36               Ric Olié   183.0     NaN      brown              fair   \n15  Jabba Desilijic Tiure   175.0  1358.0        NaN  green-tan, brown   \n50              Eeth Koth   171.0     NaN      black             brown   \n51             Adi Gallia   184.0    50.0       none              dark   \n52            Saesee Tiin   188.0     NaN       none              pale   \n\n   eye_color  birth_year             sex     gender   homeworld     species  \\\n17      blue         NaN            male  masculine  Bestine IV       Human   \n14     black        44.0            male  masculine       Rodia      Rodian   \n7        red         NaN            none  masculine    Tatooine       Droid   \n8      brown        24.0            male  masculine    Tatooine       Human   \n58      blue        82.0            male  masculine    Tatooine       Human   \n..       ...         ...             ...        ...         ...         ...   \n36      blue         NaN             NaN        NaN       Naboo         NaN   \n15    orange       600.0  hermaphroditic  masculine   Nal Hutta        Hutt   \n50     brown         NaN            male  masculine    Iridonia      Zabrak   \n51      blue         NaN          female   feminine   Coruscant  Tholothian   \n52    orange         NaN            male  masculine     Iktotch    Iktotchi   \n\n                                                films vehicles  \\\n17                                         A New Hope      NaN   \n14                                         A New Hope      NaN   \n7                                          A New Hope      NaN   \n8                                          A New Hope      NaN   \n58                               Attack of the Clones      NaN   \n..                                                ...      ...   \n36                                 The Phantom Menace      NaN   \n15  The Phantom Menace, Return of the Jedi, A New ...      NaN   \n50            The Phantom Menace, Revenge of the Sith      NaN   \n51            The Phantom Menace, Revenge of the Sith      NaN   \n52            The Phantom Menace, Revenge of the Sith      NaN   \n\n               starships  \n17                X-wing  \n14                   NaN  \n7                    NaN  \n8                 X-wing  \n58                   NaN  \n..                   ...  \n36  Naboo Royal Starship  \n15                   NaN  \n50                   NaN  \n51                   NaN  \n52                   NaN  \n\n[87 rows x 14 columns]",
      "text/html": "<div>\n<style scoped>\n    .dataframe tbody tr th:only-of-type {\n        vertical-align: middle;\n    }\n\n    .dataframe tbody tr th {\n        vertical-align: top;\n    }\n\n    .dataframe thead th {\n        text-align: right;\n    }\n</style>\n<table border=\"1\" class=\"dataframe\">\n  <thead>\n    <tr style=\"text-align: right;\">\n      <th></th>\n      <th>name</th>\n      <th>height</th>\n      <th>mass</th>\n      <th>hair_color</th>\n      <th>skin_color</th>\n      <th>eye_color</th>\n      <th>birth_year</th>\n      <th>sex</th>\n      <th>gender</th>\n      <th>homeworld</th>\n      <th>species</th>\n      <th>films</th>\n      <th>vehicles</th>\n      <th>starships</th>\n    </tr>\n  </thead>\n  <tbody>\n    <tr>\n      <th>17</th>\n      <td>Jek Tono Porkins</td>\n      <td>180.0</td>\n      <td>110.0</td>\n      <td>brown</td>\n      <td>fair</td>\n      <td>blue</td>\n      <td>NaN</td>\n      <td>male</td>\n      <td>masculine</td>\n      <td>Bestine IV</td>\n      <td>Human</td>\n      <td>A New Hope</td>\n      <td>NaN</td>\n      <td>X-wing</td>\n    </tr>\n    <tr>\n      <th>14</th>\n      <td>Greedo</td>\n      <td>173.0</td>\n      <td>74.0</td>\n      <td>NaN</td>\n      <td>green</td>\n      <td>black</td>\n      <td>44.0</td>\n      <td>male</td>\n      <td>masculine</td>\n      <td>Rodia</td>\n      <td>Rodian</td>\n      <td>A New Hope</td>\n      <td>NaN</td>\n      <td>NaN</td>\n    </tr>\n    <tr>\n      <th>7</th>\n      <td>R5-D4</td>\n      <td>97.0</td>\n      <td>32.0</td>\n      <td>NaN</td>\n      <td>white, red</td>\n      <td>red</td>\n      <td>NaN</td>\n      <td>none</td>\n      <td>masculine</td>\n      <td>Tatooine</td>\n      <td>Droid</td>\n      <td>A New Hope</td>\n      <td>NaN</td>\n      <td>NaN</td>\n    </tr>\n    <tr>\n      <th>8</th>\n      <td>Biggs Darklighter</td>\n      <td>183.0</td>\n      <td>84.0</td>\n      <td>black</td>\n      <td>light</td>\n      <td>brown</td>\n      <td>24.0</td>\n      <td>male</td>\n      <td>masculine</td>\n      <td>Tatooine</td>\n      <td>Human</td>\n      <td>A New Hope</td>\n      <td>NaN</td>\n      <td>X-wing</td>\n    </tr>\n    <tr>\n      <th>58</th>\n      <td>Cliegg Lars</td>\n      <td>183.0</td>\n      <td>NaN</td>\n      <td>brown</td>\n      <td>fair</td>\n      <td>blue</td>\n      <td>82.0</td>\n      <td>male</td>\n      <td>masculine</td>\n      <td>Tatooine</td>\n      <td>Human</td>\n      <td>Attack of the Clones</td>\n      <td>NaN</td>\n      <td>NaN</td>\n    </tr>\n    <tr>\n      <th>...</th>\n      <td>...</td>\n      <td>...</td>\n      <td>...</td>\n      <td>...</td>\n      <td>...</td>\n      <td>...</td>\n      <td>...</td>\n      <td>...</td>\n      <td>...</td>\n      <td>...</td>\n      <td>...</td>\n      <td>...</td>\n      <td>...</td>\n      <td>...</td>\n    </tr>\n    <tr>\n      <th>36</th>\n      <td>Ric Olié</td>\n      <td>183.0</td>\n      <td>NaN</td>\n      <td>brown</td>\n      <td>fair</td>\n      <td>blue</td>\n      <td>NaN</td>\n      <td>NaN</td>\n      <td>NaN</td>\n      <td>Naboo</td>\n      <td>NaN</td>\n      <td>The Phantom Menace</td>\n      <td>NaN</td>\n      <td>Naboo Royal Starship</td>\n    </tr>\n    <tr>\n      <th>15</th>\n      <td>Jabba Desilijic Tiure</td>\n      <td>175.0</td>\n      <td>1358.0</td>\n      <td>NaN</td>\n      <td>green-tan, brown</td>\n      <td>orange</td>\n      <td>600.0</td>\n      <td>hermaphroditic</td>\n      <td>masculine</td>\n      <td>Nal Hutta</td>\n      <td>Hutt</td>\n      <td>The Phantom Menace, Return of the Jedi, A New ...</td>\n      <td>NaN</td>\n      <td>NaN</td>\n    </tr>\n    <tr>\n      <th>50</th>\n      <td>Eeth Koth</td>\n      <td>171.0</td>\n      <td>NaN</td>\n      <td>black</td>\n      <td>brown</td>\n      <td>brown</td>\n      <td>NaN</td>\n      <td>male</td>\n      <td>masculine</td>\n      <td>Iridonia</td>\n      <td>Zabrak</td>\n      <td>The Phantom Menace, Revenge of the Sith</td>\n      <td>NaN</td>\n      <td>NaN</td>\n    </tr>\n    <tr>\n      <th>51</th>\n      <td>Adi Gallia</td>\n      <td>184.0</td>\n      <td>50.0</td>\n      <td>none</td>\n      <td>dark</td>\n      <td>blue</td>\n      <td>NaN</td>\n      <td>female</td>\n      <td>feminine</td>\n      <td>Coruscant</td>\n      <td>Tholothian</td>\n      <td>The Phantom Menace, Revenge of the Sith</td>\n      <td>NaN</td>\n      <td>NaN</td>\n    </tr>\n    <tr>\n      <th>52</th>\n      <td>Saesee Tiin</td>\n      <td>188.0</td>\n      <td>NaN</td>\n      <td>none</td>\n      <td>pale</td>\n      <td>orange</td>\n      <td>NaN</td>\n      <td>male</td>\n      <td>masculine</td>\n      <td>Iktotch</td>\n      <td>Iktotchi</td>\n      <td>The Phantom Menace, Revenge of the Sith</td>\n      <td>NaN</td>\n      <td>NaN</td>\n    </tr>\n  </tbody>\n</table>\n<p>87 rows × 14 columns</p>\n</div>"
     },
     "execution_count": 25,
     "metadata": {},
     "output_type": "execute_result"
    }
   ],
   "source": [
    "star_wars.sort_values(by='films')"
   ],
   "metadata": {
    "collapsed": false,
    "ExecuteTime": {
     "end_time": "2023-12-20T19:01:58.343756900Z",
     "start_time": "2023-12-20T19:01:58.314899700Z"
    }
   },
   "id": "e691b03c9097d4ce"
  },
  {
   "cell_type": "code",
   "execution_count": 26,
   "outputs": [
    {
     "data": {
      "text/plain": "                     name  height   mass hair_color skin_color eye_color  \\\n28  Wicket Systri Warrick    88.0   20.0      brown      brown     brown   \n21                  IG-88   200.0  140.0       none      metal       red   \n0          Luke Skywalker   172.0   77.0      blond       fair      blue   \n4             Leia Organa   150.0   49.0      brown      light     brown   \n16         Wedge Antilles   170.0   77.0      brown       fair     hazel   \n..                    ...     ...    ...        ...        ...       ...   \n81                   Finn     NaN    NaN      black       dark      dark   \n82                    Rey     NaN    NaN      brown      light     hazel   \n83            Poe Dameron     NaN    NaN      brown      light     brown   \n84                    BB8     NaN    NaN       none       none     black   \n85         Captain Phasma     NaN    NaN    unknown    unknown   unknown   \n\n    birth_year     sex     gender homeworld species  \\\n28         8.0    male  masculine     Endor    Ewok   \n21        15.0    none  masculine       NaN   Droid   \n0         19.0    male  masculine  Tatooine   Human   \n4         19.0  female   feminine  Alderaan   Human   \n16        21.0    male  masculine  Corellia   Human   \n..         ...     ...        ...       ...     ...   \n81         NaN    male  masculine       NaN   Human   \n82         NaN  female   feminine       NaN   Human   \n83         NaN    male  masculine       NaN   Human   \n84         NaN    none  masculine       NaN   Droid   \n85         NaN     NaN        NaN       NaN     NaN   \n\n                                                films  \\\n28                                 Return of the Jedi   \n21                            The Empire Strikes Back   \n0   The Empire Strikes Back, Revenge of the Sith, ...   \n4   The Empire Strikes Back, Revenge of the Sith, ...   \n16  The Empire Strikes Back, Return of the Jedi, A...   \n..                                                ...   \n81                                  The Force Awakens   \n82                                  The Force Awakens   \n83                                  The Force Awakens   \n84                                  The Force Awakens   \n85                                  The Force Awakens   \n\n                              vehicles                 starships  \n28                                 NaN                       NaN  \n21                                 NaN                       NaN  \n0   Snowspeeder, Imperial Speeder Bike  X-wing, Imperial shuttle  \n4                Imperial Speeder Bike                       NaN  \n16                         Snowspeeder                    X-wing  \n..                                 ...                       ...  \n81                                 NaN                       NaN  \n82                                 NaN                       NaN  \n83                                 NaN       T-70 X-wing fighter  \n84                                 NaN                       NaN  \n85                                 NaN                       NaN  \n\n[87 rows x 14 columns]",
      "text/html": "<div>\n<style scoped>\n    .dataframe tbody tr th:only-of-type {\n        vertical-align: middle;\n    }\n\n    .dataframe tbody tr th {\n        vertical-align: top;\n    }\n\n    .dataframe thead th {\n        text-align: right;\n    }\n</style>\n<table border=\"1\" class=\"dataframe\">\n  <thead>\n    <tr style=\"text-align: right;\">\n      <th></th>\n      <th>name</th>\n      <th>height</th>\n      <th>mass</th>\n      <th>hair_color</th>\n      <th>skin_color</th>\n      <th>eye_color</th>\n      <th>birth_year</th>\n      <th>sex</th>\n      <th>gender</th>\n      <th>homeworld</th>\n      <th>species</th>\n      <th>films</th>\n      <th>vehicles</th>\n      <th>starships</th>\n    </tr>\n  </thead>\n  <tbody>\n    <tr>\n      <th>28</th>\n      <td>Wicket Systri Warrick</td>\n      <td>88.0</td>\n      <td>20.0</td>\n      <td>brown</td>\n      <td>brown</td>\n      <td>brown</td>\n      <td>8.0</td>\n      <td>male</td>\n      <td>masculine</td>\n      <td>Endor</td>\n      <td>Ewok</td>\n      <td>Return of the Jedi</td>\n      <td>NaN</td>\n      <td>NaN</td>\n    </tr>\n    <tr>\n      <th>21</th>\n      <td>IG-88</td>\n      <td>200.0</td>\n      <td>140.0</td>\n      <td>none</td>\n      <td>metal</td>\n      <td>red</td>\n      <td>15.0</td>\n      <td>none</td>\n      <td>masculine</td>\n      <td>NaN</td>\n      <td>Droid</td>\n      <td>The Empire Strikes Back</td>\n      <td>NaN</td>\n      <td>NaN</td>\n    </tr>\n    <tr>\n      <th>0</th>\n      <td>Luke Skywalker</td>\n      <td>172.0</td>\n      <td>77.0</td>\n      <td>blond</td>\n      <td>fair</td>\n      <td>blue</td>\n      <td>19.0</td>\n      <td>male</td>\n      <td>masculine</td>\n      <td>Tatooine</td>\n      <td>Human</td>\n      <td>The Empire Strikes Back, Revenge of the Sith, ...</td>\n      <td>Snowspeeder, Imperial Speeder Bike</td>\n      <td>X-wing, Imperial shuttle</td>\n    </tr>\n    <tr>\n      <th>4</th>\n      <td>Leia Organa</td>\n      <td>150.0</td>\n      <td>49.0</td>\n      <td>brown</td>\n      <td>light</td>\n      <td>brown</td>\n      <td>19.0</td>\n      <td>female</td>\n      <td>feminine</td>\n      <td>Alderaan</td>\n      <td>Human</td>\n      <td>The Empire Strikes Back, Revenge of the Sith, ...</td>\n      <td>Imperial Speeder Bike</td>\n      <td>NaN</td>\n    </tr>\n    <tr>\n      <th>16</th>\n      <td>Wedge Antilles</td>\n      <td>170.0</td>\n      <td>77.0</td>\n      <td>brown</td>\n      <td>fair</td>\n      <td>hazel</td>\n      <td>21.0</td>\n      <td>male</td>\n      <td>masculine</td>\n      <td>Corellia</td>\n      <td>Human</td>\n      <td>The Empire Strikes Back, Return of the Jedi, A...</td>\n      <td>Snowspeeder</td>\n      <td>X-wing</td>\n    </tr>\n    <tr>\n      <th>...</th>\n      <td>...</td>\n      <td>...</td>\n      <td>...</td>\n      <td>...</td>\n      <td>...</td>\n      <td>...</td>\n      <td>...</td>\n      <td>...</td>\n      <td>...</td>\n      <td>...</td>\n      <td>...</td>\n      <td>...</td>\n      <td>...</td>\n      <td>...</td>\n    </tr>\n    <tr>\n      <th>81</th>\n      <td>Finn</td>\n      <td>NaN</td>\n      <td>NaN</td>\n      <td>black</td>\n      <td>dark</td>\n      <td>dark</td>\n      <td>NaN</td>\n      <td>male</td>\n      <td>masculine</td>\n      <td>NaN</td>\n      <td>Human</td>\n      <td>The Force Awakens</td>\n      <td>NaN</td>\n      <td>NaN</td>\n    </tr>\n    <tr>\n      <th>82</th>\n      <td>Rey</td>\n      <td>NaN</td>\n      <td>NaN</td>\n      <td>brown</td>\n      <td>light</td>\n      <td>hazel</td>\n      <td>NaN</td>\n      <td>female</td>\n      <td>feminine</td>\n      <td>NaN</td>\n      <td>Human</td>\n      <td>The Force Awakens</td>\n      <td>NaN</td>\n      <td>NaN</td>\n    </tr>\n    <tr>\n      <th>83</th>\n      <td>Poe Dameron</td>\n      <td>NaN</td>\n      <td>NaN</td>\n      <td>brown</td>\n      <td>light</td>\n      <td>brown</td>\n      <td>NaN</td>\n      <td>male</td>\n      <td>masculine</td>\n      <td>NaN</td>\n      <td>Human</td>\n      <td>The Force Awakens</td>\n      <td>NaN</td>\n      <td>T-70 X-wing fighter</td>\n    </tr>\n    <tr>\n      <th>84</th>\n      <td>BB8</td>\n      <td>NaN</td>\n      <td>NaN</td>\n      <td>none</td>\n      <td>none</td>\n      <td>black</td>\n      <td>NaN</td>\n      <td>none</td>\n      <td>masculine</td>\n      <td>NaN</td>\n      <td>Droid</td>\n      <td>The Force Awakens</td>\n      <td>NaN</td>\n      <td>NaN</td>\n    </tr>\n    <tr>\n      <th>85</th>\n      <td>Captain Phasma</td>\n      <td>NaN</td>\n      <td>NaN</td>\n      <td>unknown</td>\n      <td>unknown</td>\n      <td>unknown</td>\n      <td>NaN</td>\n      <td>NaN</td>\n      <td>NaN</td>\n      <td>NaN</td>\n      <td>NaN</td>\n      <td>The Force Awakens</td>\n      <td>NaN</td>\n      <td>NaN</td>\n    </tr>\n  </tbody>\n</table>\n<p>87 rows × 14 columns</p>\n</div>"
     },
     "execution_count": 26,
     "metadata": {},
     "output_type": "execute_result"
    }
   ],
   "source": [
    "star_wars.sort_values(by='birth_year')"
   ],
   "metadata": {
    "collapsed": false,
    "ExecuteTime": {
     "end_time": "2023-12-20T19:02:37.963458900Z",
     "start_time": "2023-12-20T19:02:37.948503900Z"
    }
   },
   "id": "52a7e56bcea838d4"
  },
  {
   "cell_type": "markdown",
   "source": [
    "5. Сортировка.\n",
    "Отсортируем наш датасет по фильмам и году рождения "
   ],
   "metadata": {
    "collapsed": false
   },
   "id": "4f40690ea5927e65"
  },
  {
   "cell_type": "code",
   "execution_count": 28,
   "outputs": [
    {
     "data": {
      "text/plain": "              name  height   mass hair_color   skin_color     gender\n0   Luke Skywalker   172.0   77.0      blond         fair  masculine\n1            C-3PO   167.0   75.0        NaN         gold  masculine\n2            R2-D2    96.0   32.0        NaN  white, blue  masculine\n3      Darth Vader   202.0  136.0       none        white  masculine\n4      Leia Organa   150.0   49.0      brown        light   feminine\n..             ...     ...    ...        ...          ...        ...\n82             Rey     NaN    NaN      brown        light   feminine\n83     Poe Dameron     NaN    NaN      brown        light  masculine\n84             BB8     NaN    NaN       none         none  masculine\n85  Captain Phasma     NaN    NaN    unknown      unknown        NaN\n86   Padmé Amidala   165.0   45.0      brown        light   feminine\n\n[87 rows x 6 columns]",
      "text/html": "<div>\n<style scoped>\n    .dataframe tbody tr th:only-of-type {\n        vertical-align: middle;\n    }\n\n    .dataframe tbody tr th {\n        vertical-align: top;\n    }\n\n    .dataframe thead th {\n        text-align: right;\n    }\n</style>\n<table border=\"1\" class=\"dataframe\">\n  <thead>\n    <tr style=\"text-align: right;\">\n      <th></th>\n      <th>name</th>\n      <th>height</th>\n      <th>mass</th>\n      <th>hair_color</th>\n      <th>skin_color</th>\n      <th>gender</th>\n    </tr>\n  </thead>\n  <tbody>\n    <tr>\n      <th>0</th>\n      <td>Luke Skywalker</td>\n      <td>172.0</td>\n      <td>77.0</td>\n      <td>blond</td>\n      <td>fair</td>\n      <td>masculine</td>\n    </tr>\n    <tr>\n      <th>1</th>\n      <td>C-3PO</td>\n      <td>167.0</td>\n      <td>75.0</td>\n      <td>NaN</td>\n      <td>gold</td>\n      <td>masculine</td>\n    </tr>\n    <tr>\n      <th>2</th>\n      <td>R2-D2</td>\n      <td>96.0</td>\n      <td>32.0</td>\n      <td>NaN</td>\n      <td>white, blue</td>\n      <td>masculine</td>\n    </tr>\n    <tr>\n      <th>3</th>\n      <td>Darth Vader</td>\n      <td>202.0</td>\n      <td>136.0</td>\n      <td>none</td>\n      <td>white</td>\n      <td>masculine</td>\n    </tr>\n    <tr>\n      <th>4</th>\n      <td>Leia Organa</td>\n      <td>150.0</td>\n      <td>49.0</td>\n      <td>brown</td>\n      <td>light</td>\n      <td>feminine</td>\n    </tr>\n    <tr>\n      <th>...</th>\n      <td>...</td>\n      <td>...</td>\n      <td>...</td>\n      <td>...</td>\n      <td>...</td>\n      <td>...</td>\n    </tr>\n    <tr>\n      <th>82</th>\n      <td>Rey</td>\n      <td>NaN</td>\n      <td>NaN</td>\n      <td>brown</td>\n      <td>light</td>\n      <td>feminine</td>\n    </tr>\n    <tr>\n      <th>83</th>\n      <td>Poe Dameron</td>\n      <td>NaN</td>\n      <td>NaN</td>\n      <td>brown</td>\n      <td>light</td>\n      <td>masculine</td>\n    </tr>\n    <tr>\n      <th>84</th>\n      <td>BB8</td>\n      <td>NaN</td>\n      <td>NaN</td>\n      <td>none</td>\n      <td>none</td>\n      <td>masculine</td>\n    </tr>\n    <tr>\n      <th>85</th>\n      <td>Captain Phasma</td>\n      <td>NaN</td>\n      <td>NaN</td>\n      <td>unknown</td>\n      <td>unknown</td>\n      <td>NaN</td>\n    </tr>\n    <tr>\n      <th>86</th>\n      <td>Padmé Amidala</td>\n      <td>165.0</td>\n      <td>45.0</td>\n      <td>brown</td>\n      <td>light</td>\n      <td>feminine</td>\n    </tr>\n  </tbody>\n</table>\n<p>87 rows × 6 columns</p>\n</div>"
     },
     "execution_count": 28,
     "metadata": {},
     "output_type": "execute_result"
    }
   ],
   "source": [
    "star_wars.drop(star_wars.columns[[5,6,7,9,10,11,12,13]], axis=1)"
   ],
   "metadata": {
    "collapsed": false,
    "ExecuteTime": {
     "end_time": "2023-12-20T19:06:11.934145400Z",
     "start_time": "2023-12-20T19:06:11.923449100Z"
    }
   },
   "id": "a69ca3770d525344"
  },
  {
   "cell_type": "markdown",
   "source": [
    "6. Удаление\n",
    "Удалим ненужные стобцы, чтобы проще было ориентироваться."
   ],
   "metadata": {
    "collapsed": false
   },
   "id": "5972e32a1403bb36"
  },
  {
   "cell_type": "code",
   "execution_count": 29,
   "outputs": [
    {
     "data": {
      "text/plain": "              name  height   mass hair_color   skin_color eye_color  \\\n0   Luke Skywalker   172.0   77.0      blond         fair      blue   \n1            C-3PO   167.0   75.0        NaN         gold    yellow   \n2            R2-D2    96.0   32.0        NaN  white, blue       red   \n3      Darth Vader   202.0  136.0       none        white    yellow   \n4      Leia Organa   150.0   49.0      brown        light     brown   \n..             ...     ...    ...        ...          ...       ...   \n82             Rey     NaN    NaN      brown        light     hazel   \n83     Poe Dameron     NaN    NaN      brown        light     brown   \n84             BB8     NaN    NaN       none         none     black   \n85  Captain Phasma     NaN    NaN    unknown      unknown   unknown   \n86   Padmé Amidala   165.0   45.0      brown        light     brown   \n\n    birth_year     sex     gender homeworld species  \\\n0         19.0    male  masculine  Tatooine   Human   \n1        112.0    none  masculine  Tatooine   Droid   \n2         33.0    none  masculine     Naboo   Droid   \n3         41.9    male  masculine  Tatooine   Human   \n4         19.0  female   feminine  Alderaan   Human   \n..         ...     ...        ...       ...     ...   \n82         NaN  female   feminine       NaN   Human   \n83         NaN    male  masculine       NaN   Human   \n84         NaN    none  masculine       NaN   Droid   \n85         NaN     NaN        NaN       NaN     NaN   \n86        46.0  female   feminine     Naboo   Human   \n\n                                                films  \\\n0   The Empire Strikes Back, Revenge of the Sith, ...   \n1   The Empire Strikes Back, Attack of the Clones,...   \n2   The Empire Strikes Back, Attack of the Clones,...   \n3   The Empire Strikes Back, Revenge of the Sith, ...   \n4   The Empire Strikes Back, Revenge of the Sith, ...   \n..                                                ...   \n82                                  The Force Awakens   \n83                                  The Force Awakens   \n84                                  The Force Awakens   \n85                                  The Force Awakens   \n86  Attack of the Clones, The Phantom Menace, Reve...   \n\n                              vehicles  \\\n0   Snowspeeder, Imperial Speeder Bike   \n1                                  NaN   \n2                                  NaN   \n3                                  NaN   \n4                Imperial Speeder Bike   \n..                                 ...   \n82                                 NaN   \n83                                 NaN   \n84                                 NaN   \n85                                 NaN   \n86                                 NaN   \n\n                                            starships  \n0                            X-wing, Imperial shuttle  \n1                                                 NaN  \n2                                                 NaN  \n3                                     TIE Advanced x1  \n4                                                 NaN  \n..                                                ...  \n82                                                NaN  \n83                                T-70 X-wing fighter  \n84                                                NaN  \n85                                                NaN  \n86  H-type Nubian yacht, Naboo star skiff, Naboo f...  \n\n[87 rows x 14 columns]",
      "text/html": "<div>\n<style scoped>\n    .dataframe tbody tr th:only-of-type {\n        vertical-align: middle;\n    }\n\n    .dataframe tbody tr th {\n        vertical-align: top;\n    }\n\n    .dataframe thead th {\n        text-align: right;\n    }\n</style>\n<table border=\"1\" class=\"dataframe\">\n  <thead>\n    <tr style=\"text-align: right;\">\n      <th></th>\n      <th>name</th>\n      <th>height</th>\n      <th>mass</th>\n      <th>hair_color</th>\n      <th>skin_color</th>\n      <th>eye_color</th>\n      <th>birth_year</th>\n      <th>sex</th>\n      <th>gender</th>\n      <th>homeworld</th>\n      <th>species</th>\n      <th>films</th>\n      <th>vehicles</th>\n      <th>starships</th>\n    </tr>\n  </thead>\n  <tbody>\n    <tr>\n      <th>0</th>\n      <td>Luke Skywalker</td>\n      <td>172.0</td>\n      <td>77.0</td>\n      <td>blond</td>\n      <td>fair</td>\n      <td>blue</td>\n      <td>19.0</td>\n      <td>male</td>\n      <td>masculine</td>\n      <td>Tatooine</td>\n      <td>Human</td>\n      <td>The Empire Strikes Back, Revenge of the Sith, ...</td>\n      <td>Snowspeeder, Imperial Speeder Bike</td>\n      <td>X-wing, Imperial shuttle</td>\n    </tr>\n    <tr>\n      <th>1</th>\n      <td>C-3PO</td>\n      <td>167.0</td>\n      <td>75.0</td>\n      <td>NaN</td>\n      <td>gold</td>\n      <td>yellow</td>\n      <td>112.0</td>\n      <td>none</td>\n      <td>masculine</td>\n      <td>Tatooine</td>\n      <td>Droid</td>\n      <td>The Empire Strikes Back, Attack of the Clones,...</td>\n      <td>NaN</td>\n      <td>NaN</td>\n    </tr>\n    <tr>\n      <th>2</th>\n      <td>R2-D2</td>\n      <td>96.0</td>\n      <td>32.0</td>\n      <td>NaN</td>\n      <td>white, blue</td>\n      <td>red</td>\n      <td>33.0</td>\n      <td>none</td>\n      <td>masculine</td>\n      <td>Naboo</td>\n      <td>Droid</td>\n      <td>The Empire Strikes Back, Attack of the Clones,...</td>\n      <td>NaN</td>\n      <td>NaN</td>\n    </tr>\n    <tr>\n      <th>3</th>\n      <td>Darth Vader</td>\n      <td>202.0</td>\n      <td>136.0</td>\n      <td>none</td>\n      <td>white</td>\n      <td>yellow</td>\n      <td>41.9</td>\n      <td>male</td>\n      <td>masculine</td>\n      <td>Tatooine</td>\n      <td>Human</td>\n      <td>The Empire Strikes Back, Revenge of the Sith, ...</td>\n      <td>NaN</td>\n      <td>TIE Advanced x1</td>\n    </tr>\n    <tr>\n      <th>4</th>\n      <td>Leia Organa</td>\n      <td>150.0</td>\n      <td>49.0</td>\n      <td>brown</td>\n      <td>light</td>\n      <td>brown</td>\n      <td>19.0</td>\n      <td>female</td>\n      <td>feminine</td>\n      <td>Alderaan</td>\n      <td>Human</td>\n      <td>The Empire Strikes Back, Revenge of the Sith, ...</td>\n      <td>Imperial Speeder Bike</td>\n      <td>NaN</td>\n    </tr>\n    <tr>\n      <th>...</th>\n      <td>...</td>\n      <td>...</td>\n      <td>...</td>\n      <td>...</td>\n      <td>...</td>\n      <td>...</td>\n      <td>...</td>\n      <td>...</td>\n      <td>...</td>\n      <td>...</td>\n      <td>...</td>\n      <td>...</td>\n      <td>...</td>\n      <td>...</td>\n    </tr>\n    <tr>\n      <th>82</th>\n      <td>Rey</td>\n      <td>NaN</td>\n      <td>NaN</td>\n      <td>brown</td>\n      <td>light</td>\n      <td>hazel</td>\n      <td>NaN</td>\n      <td>female</td>\n      <td>feminine</td>\n      <td>NaN</td>\n      <td>Human</td>\n      <td>The Force Awakens</td>\n      <td>NaN</td>\n      <td>NaN</td>\n    </tr>\n    <tr>\n      <th>83</th>\n      <td>Poe Dameron</td>\n      <td>NaN</td>\n      <td>NaN</td>\n      <td>brown</td>\n      <td>light</td>\n      <td>brown</td>\n      <td>NaN</td>\n      <td>male</td>\n      <td>masculine</td>\n      <td>NaN</td>\n      <td>Human</td>\n      <td>The Force Awakens</td>\n      <td>NaN</td>\n      <td>T-70 X-wing fighter</td>\n    </tr>\n    <tr>\n      <th>84</th>\n      <td>BB8</td>\n      <td>NaN</td>\n      <td>NaN</td>\n      <td>none</td>\n      <td>none</td>\n      <td>black</td>\n      <td>NaN</td>\n      <td>none</td>\n      <td>masculine</td>\n      <td>NaN</td>\n      <td>Droid</td>\n      <td>The Force Awakens</td>\n      <td>NaN</td>\n      <td>NaN</td>\n    </tr>\n    <tr>\n      <th>85</th>\n      <td>Captain Phasma</td>\n      <td>NaN</td>\n      <td>NaN</td>\n      <td>unknown</td>\n      <td>unknown</td>\n      <td>unknown</td>\n      <td>NaN</td>\n      <td>NaN</td>\n      <td>NaN</td>\n      <td>NaN</td>\n      <td>NaN</td>\n      <td>The Force Awakens</td>\n      <td>NaN</td>\n      <td>NaN</td>\n    </tr>\n    <tr>\n      <th>86</th>\n      <td>Padmé Amidala</td>\n      <td>165.0</td>\n      <td>45.0</td>\n      <td>brown</td>\n      <td>light</td>\n      <td>brown</td>\n      <td>46.0</td>\n      <td>female</td>\n      <td>feminine</td>\n      <td>Naboo</td>\n      <td>Human</td>\n      <td>Attack of the Clones, The Phantom Menace, Reve...</td>\n      <td>NaN</td>\n      <td>H-type Nubian yacht, Naboo star skiff, Naboo f...</td>\n    </tr>\n  </tbody>\n</table>\n<p>87 rows × 14 columns</p>\n</div>"
     },
     "execution_count": 29,
     "metadata": {},
     "output_type": "execute_result"
    }
   ],
   "source": [
    "star_wars = star_wars.replace({\"vehicles\":\"NaN\"}, \"Not Found\")\n",
    "star_wars"
   ],
   "metadata": {
    "collapsed": false,
    "ExecuteTime": {
     "end_time": "2023-12-20T19:08:45.221104700Z",
     "start_time": "2023-12-20T19:08:45.184941Z"
    }
   },
   "id": "6cbdd377659d7fc4"
  },
  {
   "cell_type": "markdown",
   "source": [
    "7. Замена \n",
    "Заменим значения NaN в колонке транспорта на Not Found."
   ],
   "metadata": {
    "collapsed": false
   },
   "id": "eaaf9658bebd0846"
  },
  {
   "cell_type": "code",
   "execution_count": 30,
   "outputs": [
    {
     "data": {
      "text/plain": "              name  height   mass hair_color   skin_color eye_color  \\\n0   Luke Skywalker   172.0   77.0      blond         fair      blue   \n1            C-3PO   167.0   75.0        NaN         gold    yellow   \n2            R2-D2    96.0   32.0        NaN  white, blue       red   \n3      Darth Vader   202.0  136.0       none        white    yellow   \n4      Leia Organa   150.0   49.0      brown        light     brown   \n..             ...     ...    ...        ...          ...       ...   \n82             Rey     NaN    NaN      brown        light     hazel   \n83     Poe Dameron     NaN    NaN      brown        light     brown   \n84             BB8     NaN    NaN       none         none     black   \n85  Captain Phasma     NaN    NaN    unknown      unknown   unknown   \n86   Padmé Amidala   165.0   45.0      brown        light     brown   \n\n    birth_year     sex     gender homeworld species  \\\n0         19.0    male  masculine  Tatooine   Human   \n1        112.0    none  masculine  Tatooine   Droid   \n2         33.0    none  masculine     Naboo   Droid   \n3         41.9    male  masculine  Tatooine   Human   \n4         19.0  female   feminine  Alderaan   Human   \n..         ...     ...        ...       ...     ...   \n82         NaN  female   feminine       NaN   Human   \n83         NaN    male  masculine       NaN   Human   \n84         NaN    none  masculine       NaN   Droid   \n85         NaN     NaN        NaN       NaN     NaN   \n86        46.0  female   feminine     Naboo   Human   \n\n                                                films  \\\n0   The Empire Strikes Back, Revenge of the Sith, ...   \n1   The Empire Strikes Back, Attack of the Clones,...   \n2   The Empire Strikes Back, Attack of the Clones,...   \n3   The Empire Strikes Back, Revenge of the Sith, ...   \n4   The Empire Strikes Back, Revenge of the Sith, ...   \n..                                                ...   \n82                                  The Force Awakens   \n83                                  The Force Awakens   \n84                                  The Force Awakens   \n85                                  The Force Awakens   \n86  Attack of the Clones, The Phantom Menace, Reve...   \n\n                              vehicles  \\\n0   Snowspeeder, Imperial Speeder Bike   \n1                                  NaN   \n2                                  NaN   \n3                                  NaN   \n4                Imperial Speeder Bike   \n..                                 ...   \n82                                 NaN   \n83                                 NaN   \n84                                 NaN   \n85                                 NaN   \n86                                 NaN   \n\n                                            starships  \n0                            X-wing, Imperial shuttle  \n1                                                 NaN  \n2                                                 NaN  \n3                                     TIE Advanced x1  \n4                                                 NaN  \n..                                                ...  \n82                                                NaN  \n83                                T-70 X-wing fighter  \n84                                                NaN  \n85                                                NaN  \n86  H-type Nubian yacht, Naboo star skiff, Naboo f...  \n\n[87 rows x 14 columns]",
      "text/html": "<div>\n<style scoped>\n    .dataframe tbody tr th:only-of-type {\n        vertical-align: middle;\n    }\n\n    .dataframe tbody tr th {\n        vertical-align: top;\n    }\n\n    .dataframe thead th {\n        text-align: right;\n    }\n</style>\n<table border=\"1\" class=\"dataframe\">\n  <thead>\n    <tr style=\"text-align: right;\">\n      <th></th>\n      <th>name</th>\n      <th>height</th>\n      <th>mass</th>\n      <th>hair_color</th>\n      <th>skin_color</th>\n      <th>eye_color</th>\n      <th>birth_year</th>\n      <th>sex</th>\n      <th>gender</th>\n      <th>homeworld</th>\n      <th>species</th>\n      <th>films</th>\n      <th>vehicles</th>\n      <th>starships</th>\n    </tr>\n  </thead>\n  <tbody>\n    <tr>\n      <th>0</th>\n      <td>Luke Skywalker</td>\n      <td>172.0</td>\n      <td>77.0</td>\n      <td>blond</td>\n      <td>fair</td>\n      <td>blue</td>\n      <td>19.0</td>\n      <td>male</td>\n      <td>masculine</td>\n      <td>Tatooine</td>\n      <td>Human</td>\n      <td>The Empire Strikes Back, Revenge of the Sith, ...</td>\n      <td>Snowspeeder, Imperial Speeder Bike</td>\n      <td>X-wing, Imperial shuttle</td>\n    </tr>\n    <tr>\n      <th>1</th>\n      <td>C-3PO</td>\n      <td>167.0</td>\n      <td>75.0</td>\n      <td>NaN</td>\n      <td>gold</td>\n      <td>yellow</td>\n      <td>112.0</td>\n      <td>none</td>\n      <td>masculine</td>\n      <td>Tatooine</td>\n      <td>Droid</td>\n      <td>The Empire Strikes Back, Attack of the Clones,...</td>\n      <td>NaN</td>\n      <td>NaN</td>\n    </tr>\n    <tr>\n      <th>2</th>\n      <td>R2-D2</td>\n      <td>96.0</td>\n      <td>32.0</td>\n      <td>NaN</td>\n      <td>white, blue</td>\n      <td>red</td>\n      <td>33.0</td>\n      <td>none</td>\n      <td>masculine</td>\n      <td>Naboo</td>\n      <td>Droid</td>\n      <td>The Empire Strikes Back, Attack of the Clones,...</td>\n      <td>NaN</td>\n      <td>NaN</td>\n    </tr>\n    <tr>\n      <th>3</th>\n      <td>Darth Vader</td>\n      <td>202.0</td>\n      <td>136.0</td>\n      <td>none</td>\n      <td>white</td>\n      <td>yellow</td>\n      <td>41.9</td>\n      <td>male</td>\n      <td>masculine</td>\n      <td>Tatooine</td>\n      <td>Human</td>\n      <td>The Empire Strikes Back, Revenge of the Sith, ...</td>\n      <td>NaN</td>\n      <td>TIE Advanced x1</td>\n    </tr>\n    <tr>\n      <th>4</th>\n      <td>Leia Organa</td>\n      <td>150.0</td>\n      <td>49.0</td>\n      <td>brown</td>\n      <td>light</td>\n      <td>brown</td>\n      <td>19.0</td>\n      <td>female</td>\n      <td>feminine</td>\n      <td>Alderaan</td>\n      <td>Human</td>\n      <td>The Empire Strikes Back, Revenge of the Sith, ...</td>\n      <td>Imperial Speeder Bike</td>\n      <td>NaN</td>\n    </tr>\n    <tr>\n      <th>...</th>\n      <td>...</td>\n      <td>...</td>\n      <td>...</td>\n      <td>...</td>\n      <td>...</td>\n      <td>...</td>\n      <td>...</td>\n      <td>...</td>\n      <td>...</td>\n      <td>...</td>\n      <td>...</td>\n      <td>...</td>\n      <td>...</td>\n      <td>...</td>\n    </tr>\n    <tr>\n      <th>82</th>\n      <td>Rey</td>\n      <td>NaN</td>\n      <td>NaN</td>\n      <td>brown</td>\n      <td>light</td>\n      <td>hazel</td>\n      <td>NaN</td>\n      <td>female</td>\n      <td>feminine</td>\n      <td>NaN</td>\n      <td>Human</td>\n      <td>The Force Awakens</td>\n      <td>NaN</td>\n      <td>NaN</td>\n    </tr>\n    <tr>\n      <th>83</th>\n      <td>Poe Dameron</td>\n      <td>NaN</td>\n      <td>NaN</td>\n      <td>brown</td>\n      <td>light</td>\n      <td>brown</td>\n      <td>NaN</td>\n      <td>male</td>\n      <td>masculine</td>\n      <td>NaN</td>\n      <td>Human</td>\n      <td>The Force Awakens</td>\n      <td>NaN</td>\n      <td>T-70 X-wing fighter</td>\n    </tr>\n    <tr>\n      <th>84</th>\n      <td>BB8</td>\n      <td>NaN</td>\n      <td>NaN</td>\n      <td>none</td>\n      <td>none</td>\n      <td>black</td>\n      <td>NaN</td>\n      <td>none</td>\n      <td>masculine</td>\n      <td>NaN</td>\n      <td>Droid</td>\n      <td>The Force Awakens</td>\n      <td>NaN</td>\n      <td>NaN</td>\n    </tr>\n    <tr>\n      <th>85</th>\n      <td>Captain Phasma</td>\n      <td>NaN</td>\n      <td>NaN</td>\n      <td>unknown</td>\n      <td>unknown</td>\n      <td>unknown</td>\n      <td>NaN</td>\n      <td>NaN</td>\n      <td>NaN</td>\n      <td>NaN</td>\n      <td>NaN</td>\n      <td>The Force Awakens</td>\n      <td>NaN</td>\n      <td>NaN</td>\n    </tr>\n    <tr>\n      <th>86</th>\n      <td>Padmé Amidala</td>\n      <td>165.0</td>\n      <td>45.0</td>\n      <td>brown</td>\n      <td>light</td>\n      <td>brown</td>\n      <td>46.0</td>\n      <td>female</td>\n      <td>feminine</td>\n      <td>Naboo</td>\n      <td>Human</td>\n      <td>Attack of the Clones, The Phantom Menace, Reve...</td>\n      <td>NaN</td>\n      <td>H-type Nubian yacht, Naboo star skiff, Naboo f...</td>\n    </tr>\n  </tbody>\n</table>\n<p>87 rows × 14 columns</p>\n</div>"
     },
     "execution_count": 30,
     "metadata": {},
     "output_type": "execute_result"
    }
   ],
   "source": [
    "star_wars.drop_duplicates()"
   ],
   "metadata": {
    "collapsed": false,
    "ExecuteTime": {
     "end_time": "2023-12-20T19:11:15.237198Z",
     "start_time": "2023-12-20T19:11:15.222976400Z"
    }
   },
   "id": "e4a9851e8e9acf32"
  },
  {
   "cell_type": "markdown",
   "source": [
    "8. Удаление дубликатов \n",
    "Удалим дубликаты из датасета, если они есть. По количеству строк понимаем что не было."
   ],
   "metadata": {
    "collapsed": false
   },
   "id": "36de356ac5349f3f"
  },
  {
   "cell_type": "code",
   "execution_count": 31,
   "outputs": [
    {
     "name": "stdout",
     "output_type": "stream",
     "text": [
      "<class 'pandas.core.frame.DataFrame'>\n",
      "RangeIndex: 87 entries, 0 to 86\n",
      "Data columns (total 14 columns):\n",
      " #   Column      Non-Null Count  Dtype  \n",
      "---  ------      --------------  -----  \n",
      " 0   name        87 non-null     object \n",
      " 1   height      81 non-null     float64\n",
      " 2   mass        59 non-null     float64\n",
      " 3   hair_color  82 non-null     object \n",
      " 4   skin_color  87 non-null     object \n",
      " 5   eye_color   87 non-null     object \n",
      " 6   birth_year  43 non-null     float64\n",
      " 7   sex         83 non-null     object \n",
      " 8   gender      83 non-null     object \n",
      " 9   homeworld   77 non-null     object \n",
      " 10  species     83 non-null     object \n",
      " 11  films       87 non-null     object \n",
      " 12  vehicles    11 non-null     object \n",
      " 13  starships   20 non-null     object \n",
      "dtypes: float64(3), object(11)\n",
      "memory usage: 9.6+ KB\n"
     ]
    }
   ],
   "source": [
    "star_wars.info()"
   ],
   "metadata": {
    "collapsed": false,
    "ExecuteTime": {
     "end_time": "2023-12-20T19:13:50.701168700Z",
     "start_time": "2023-12-20T19:13:50.690607200Z"
    }
   },
   "id": "67cdb74165d94c58"
  },
  {
   "cell_type": "markdown",
   "source": [
    "9. Анализ с помощью info.\n",
    "После info анализа можем сделать вывод что 20 персонажей имели свой космический корабль и  всего 11 имели свой транспорт  "
   ],
   "metadata": {
    "collapsed": false
   },
   "id": "b5b2c2463dd2fca5"
  },
  {
   "cell_type": "code",
   "execution_count": 32,
   "outputs": [
    {
     "data": {
      "text/plain": "           height         mass  birth_year\ncount   81.000000    59.000000   43.000000\nmean   174.358025    97.311864   87.565116\nstd     34.770429   169.457163  154.691439\nmin     66.000000    15.000000    8.000000\n25%    167.000000    55.600000   35.000000\n50%    180.000000    79.000000   52.000000\n75%    191.000000    84.500000   72.000000\nmax    264.000000  1358.000000  896.000000",
      "text/html": "<div>\n<style scoped>\n    .dataframe tbody tr th:only-of-type {\n        vertical-align: middle;\n    }\n\n    .dataframe tbody tr th {\n        vertical-align: top;\n    }\n\n    .dataframe thead th {\n        text-align: right;\n    }\n</style>\n<table border=\"1\" class=\"dataframe\">\n  <thead>\n    <tr style=\"text-align: right;\">\n      <th></th>\n      <th>height</th>\n      <th>mass</th>\n      <th>birth_year</th>\n    </tr>\n  </thead>\n  <tbody>\n    <tr>\n      <th>count</th>\n      <td>81.000000</td>\n      <td>59.000000</td>\n      <td>43.000000</td>\n    </tr>\n    <tr>\n      <th>mean</th>\n      <td>174.358025</td>\n      <td>97.311864</td>\n      <td>87.565116</td>\n    </tr>\n    <tr>\n      <th>std</th>\n      <td>34.770429</td>\n      <td>169.457163</td>\n      <td>154.691439</td>\n    </tr>\n    <tr>\n      <th>min</th>\n      <td>66.000000</td>\n      <td>15.000000</td>\n      <td>8.000000</td>\n    </tr>\n    <tr>\n      <th>25%</th>\n      <td>167.000000</td>\n      <td>55.600000</td>\n      <td>35.000000</td>\n    </tr>\n    <tr>\n      <th>50%</th>\n      <td>180.000000</td>\n      <td>79.000000</td>\n      <td>52.000000</td>\n    </tr>\n    <tr>\n      <th>75%</th>\n      <td>191.000000</td>\n      <td>84.500000</td>\n      <td>72.000000</td>\n    </tr>\n    <tr>\n      <th>max</th>\n      <td>264.000000</td>\n      <td>1358.000000</td>\n      <td>896.000000</td>\n    </tr>\n  </tbody>\n</table>\n</div>"
     },
     "execution_count": 32,
     "metadata": {},
     "output_type": "execute_result"
    }
   ],
   "source": [
    "star_wars.describe()"
   ],
   "metadata": {
    "collapsed": false,
    "ExecuteTime": {
     "end_time": "2023-12-20T19:20:56.417906300Z",
     "start_time": "2023-12-20T19:20:56.396705500Z"
    }
   },
   "id": "f96212c983b024a6"
  },
  {
   "cell_type": "markdown",
   "source": [
    "10. Анализ с помощью Describe.\n",
    "После describe анализа видим, что максимальный рост - 264, максимальный вес - 1358, минимальный год рождения - 8 лет, а максимальный - 896 лет."
   ],
   "metadata": {
    "collapsed": false
   },
   "id": "4f884e3ae6d0ea45"
  },
  {
   "cell_type": "code",
   "execution_count": 33,
   "outputs": [
    {
     "data": {
      "text/plain": "                              vehicles  mass   sex  \\\n0   Snowspeeder, Imperial Speeder Bike  77.0  male   \n13                                 NaN  80.0  male   \n23                                 NaN  79.0  male   \n\n                              starships  \n0              X-wing, Imperial shuttle  \n13  Millennium Falcon, Imperial shuttle  \n23                    Millennium Falcon  ",
      "text/html": "<div>\n<style scoped>\n    .dataframe tbody tr th:only-of-type {\n        vertical-align: middle;\n    }\n\n    .dataframe tbody tr th {\n        vertical-align: top;\n    }\n\n    .dataframe thead th {\n        text-align: right;\n    }\n</style>\n<table border=\"1\" class=\"dataframe\">\n  <thead>\n    <tr style=\"text-align: right;\">\n      <th></th>\n      <th>vehicles</th>\n      <th>mass</th>\n      <th>sex</th>\n      <th>starships</th>\n    </tr>\n  </thead>\n  <tbody>\n    <tr>\n      <th>0</th>\n      <td>Snowspeeder, Imperial Speeder Bike</td>\n      <td>77.0</td>\n      <td>male</td>\n      <td>X-wing, Imperial shuttle</td>\n    </tr>\n    <tr>\n      <th>13</th>\n      <td>NaN</td>\n      <td>80.0</td>\n      <td>male</td>\n      <td>Millennium Falcon, Imperial shuttle</td>\n    </tr>\n    <tr>\n      <th>23</th>\n      <td>NaN</td>\n      <td>79.0</td>\n      <td>male</td>\n      <td>Millennium Falcon</td>\n    </tr>\n  </tbody>\n</table>\n</div>"
     },
     "execution_count": 33,
     "metadata": {},
     "output_type": "execute_result"
    }
   ],
   "source": [
    "star_wars.loc[[0,13,23],['vehicles', 'mass', 'sex', 'starships']]"
   ],
   "metadata": {
    "collapsed": false,
    "ExecuteTime": {
     "end_time": "2023-12-20T19:25:53.131724500Z",
     "start_time": "2023-12-20T19:25:53.105776800Z"
    }
   },
   "id": "d1002135a89fa4a7"
  },
  {
   "cell_type": "markdown",
   "source": [
    "11. Выборка с помощью loc.\n",
    "Выберем 3 рандомных перса и просмотрим их транспорт, вес, пол и космический корабль.\n",
    "Делаем вывод, что владелец снежного спидера и x-wing(а) более крутой чем челики без\n",
    "своих ТС"
   ],
   "metadata": {
    "collapsed": false
   },
   "id": "5ee4462ded27ffeb"
  },
  {
   "cell_type": "code",
   "execution_count": 35,
   "outputs": [],
   "source": [
    "star_wars.to_csv(\"starwars_new.csv\", index=False)"
   ],
   "metadata": {
    "collapsed": false,
    "ExecuteTime": {
     "end_time": "2023-12-20T19:34:34.952441900Z",
     "start_time": "2023-12-20T19:34:34.931402800Z"
    }
   },
   "id": "82a828b81ee6a175"
  },
  {
   "cell_type": "markdown",
   "source": [
    "12. Сохранение \n",
    "Сохраним обновленный датасет в новый csv\n",
    "\n",
    "Вывод:был реализован датасет с персонажами Звездных Войн. Входе исследования оказалось\n",
    "что не так много персонажей киносаги имеют свое личное ТС. Из представленных в \n",
    "датасете 87 только 11 имели свое ТС.Изучены функции describe, info, replace, drop,\n",
    "drop_duplicates, loc, to_csv, sort_values, unique, shape, columns."
   ],
   "metadata": {
    "collapsed": false
   },
   "id": "86d93ec6d41f0856"
  }
 ],
 "metadata": {
  "kernelspec": {
   "display_name": "Python 3",
   "language": "python",
   "name": "python3"
  },
  "language_info": {
   "codemirror_mode": {
    "name": "ipython",
    "version": 2
   },
   "file_extension": ".py",
   "mimetype": "text/x-python",
   "name": "python",
   "nbconvert_exporter": "python",
   "pygments_lexer": "ipython2",
   "version": "2.7.6"
  }
 },
 "nbformat": 4,
 "nbformat_minor": 5
}
